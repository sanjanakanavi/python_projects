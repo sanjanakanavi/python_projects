{
 "cells": [
  {
   "cell_type": "code",
   "execution_count": null,
   "id": "d92f247d",
   "metadata": {},
   "outputs": [
    {
     "name": "stdout",
     "output_type": "stream",
     "text": [
      "Raw data path: data/raw/customer_churn.csv\n",
      "Figures directory: reports/figures/\n",
      "   customer_id  age  gender  tenure  monthly_charges  total_charges  \\\n",
      "0            1   29  Female       1            29.85          29.85   \n",
      "1            2    1    Male      34            56.95        1889.50   \n",
      "2            3    2  Female       2            53.85         108.15   \n",
      "3            4   32    Male      45            42.30        1840.75   \n",
      "4            5   31  Female       2            70.70         151.65   \n",
      "\n",
      "    contract_type    payment_method churn  \n",
      "0  Month-to-month  Electronic check   Yes  \n",
      "1        One year      Mailed check    No  \n",
      "2  Month-to-month      Mailed check   Yes  \n",
      "3        One year     Bank transfer    No  \n",
      "4  Month-to-month  Electronic check   Yes  \n"
     ]
    }
   ],
   "source": [
    "import yaml\n",
    "import pandas as pd\n",
    "\n",
    "def load_config(config_path=\"../config/config.yaml\"):\n",
    "    with open(config_path, 'r') as file:\n",
    "        config = yaml.safe_load(file)\n",
    "    return config\n",
    "\n",
    "# Load config\n",
    "a = load_config()\n",
    "\n",
    "# Print to verify\n",
    "print(\"Raw data path:\", a['data']['raw'])\n",
    "print(\"Figures directory:\", a['reports']['figures_dir'])\n",
    "\n",
    "# Read the raw CSV file\n",
    "s = \"../\"+a['data']['raw']\n",
    "df = pd.read_csv(s)\n",
    "print(df.)\n"
   ]
  }
 ],
 "metadata": {
  "kernelspec": {
   "display_name": "Python 3",
   "language": "python",
   "name": "python3"
  },
  "language_info": {
   "codemirror_mode": {
    "name": "ipython",
    "version": 3
   },
   "file_extension": ".py",
   "mimetype": "text/x-python",
   "name": "python",
   "nbconvert_exporter": "python",
   "pygments_lexer": "ipython3",
   "version": "3.13.5"
  }
 },
 "nbformat": 4,
 "nbformat_minor": 5
}
